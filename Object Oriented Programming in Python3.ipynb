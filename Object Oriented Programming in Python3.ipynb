{
 "cells": [
  {
   "cell_type": "markdown",
   "metadata": {},
   "source": [
    "<div id=\"table\">"
   ]
  },
  {
   "cell_type": "markdown",
   "metadata": {
    "toc": true
   },
   "source": [
    "<h1>Table of Contents<span class=\"tocSkip\"></span></h1>\n",
    "<div class=\"toc\"><ul class=\"toc-item\"><li><span><a href=\"#Object-Oriented-Programming\" data-toc-modified-id=\"Object-Oriented-Programming-1\"><span class=\"toc-item-num\">1&nbsp;&nbsp;</span>Object Oriented Programming</a></span><ul class=\"toc-item\"><li><span><a href=\"#Terminologies\" data-toc-modified-id=\"Terminologies-1.1\"><span class=\"toc-item-num\">1.1&nbsp;&nbsp;</span>Terminologies</a></span><ul class=\"toc-item\"><li><span><a href=\"#Class:\" data-toc-modified-id=\"Class:-1.1.1\"><span class=\"toc-item-num\">1.1.1&nbsp;&nbsp;</span>Class:</a></span></li><li><span><a href=\"#Class-Variables:\" data-toc-modified-id=\"Class-Variables:-1.1.2\"><span class=\"toc-item-num\">1.1.2&nbsp;&nbsp;</span>Class Variables:</a></span></li><li><span><a href=\"#Instance-Variables:\" data-toc-modified-id=\"Instance-Variables:-1.1.3\"><span class=\"toc-item-num\">1.1.3&nbsp;&nbsp;</span>Instance Variables:</a></span></li><li><span><a href=\"#Data-Members:\" data-toc-modified-id=\"Data-Members:-1.1.4\"><span class=\"toc-item-num\">1.1.4&nbsp;&nbsp;</span>Data Members:</a></span></li><li><span><a href=\"#Function-Overloading:\" data-toc-modified-id=\"Function-Overloading:-1.1.5\"><span class=\"toc-item-num\">1.1.5&nbsp;&nbsp;</span>Function Overloading:</a></span></li></ul></li><li><span><a href=\"#Creation-of-class\" data-toc-modified-id=\"Creation-of-class-1.2\"><span class=\"toc-item-num\">1.2&nbsp;&nbsp;</span>Creation of class</a></span></li></ul></li></ul></div>"
   ]
  },
  {
   "cell_type": "markdown",
   "metadata": {},
   "source": [
    "# Object Oriented Programming\n",
    "## Terminologies\n",
    "### Class:\n",
    "A __Class__ can be defined as a user-defined prototype for an object that defines a set of attributes that characterize any object of class. The __attributes__ are data members and methods, accessed via dot method.\n",
    "### Class Variables:\n",
    "A __Class Variable__ is the variable shared by all instances of the class. It is defined inside the class but outside any of the class's methods. It is not used as frequently as that of instance variable.\n",
    "### Instance Variables:\n",
    "A variable defined inside any methods of a class and belongs only to the current instance of the class.\n",
    "### Data Members:\n",
    "A __Data Member__ is a class variable or instance variable that holds data associated with a class and its objects.\n",
    "### Function Overloading:\n",
    "The assignment of more than one behavior to a particular function. The operation performed varies by the types of objects or arguments involved.\n",
    "\n",
    "[go back to top](#table)"
   ]
  },
  {
   "cell_type": "markdown",
   "metadata": {},
   "source": [
    "## Creation of class\n",
    "__Syntax:__<br>\n",
    "<code>class Class_Name(object):\n",
    "    'Class_documentation(optional)'\n",
    "    def \\__init\\__(self, param1, param2):\n",
    "        initialization_of_some_data\n",
    "        assignment_of_some_values\n",
    "    def some_Method(self, param3, param4):\n",
    "        do_something\n",
    "        return some_data\n",
    "    Other_Class_Suites</code>\n",
    "* The class_suite consists of all the component statements defining class members, data attributes and functions.\n",
    "* Class Documentation can be accessed via __Syntax:__<br>\n",
    "  **Class_Name.\\__doc\\__**\n",
    "  \n",
    "**Example:**<br>\n",
    "**Class Definition:**"
   ]
  },
  {
   "cell_type": "code",
   "execution_count": 1,
   "metadata": {
    "ExecuteTime": {
     "end_time": "2018-06-11T19:41:25.054334Z",
     "start_time": "2018-06-11T19:41:25.043340Z"
    }
   },
   "outputs": [],
   "source": [
    "class Student(object):\n",
    "    'Student Detail Recorder'\n",
    "    no_of_students = 0\n",
    "    def __init__(self, name, reg_no, batch, program):\n",
    "        self.name = name\n",
    "        self.reg_no = reg_no\n",
    "        self.batch = batch\n",
    "        self.program = program\n",
    "        Student.no_of_students += 1\n",
    "    def total_student(self):\n",
    "        return Student.no_of_students\n",
    "    def fetch_student(self):\n",
    "        return {'Name' : self.name, 'Reg.No' : self.reg_no, 'Batch' : self.batch, 'Program' : self.program}"
   ]
  },
  {
   "cell_type": "markdown",
   "metadata": {},
   "source": [
    "**Instance Object:**"
   ]
  },
  {
   "cell_type": "code",
   "execution_count": 2,
   "metadata": {
    "ExecuteTime": {
     "end_time": "2018-06-11T19:41:29.122637Z",
     "start_time": "2018-06-11T19:41:29.110643Z"
    }
   },
   "outputs": [],
   "source": [
    "student1 = Student('Jonty Rhodes', 11502264, 2015, 'B.Tech | CSE')\n",
    "student2 = Student('The Roy', 11509584, 2015, 'M.Tech | ECE')"
   ]
  },
  {
   "cell_type": "code",
   "execution_count": 4,
   "metadata": {
    "ExecuteTime": {
     "end_time": "2018-06-11T19:44:48.865495Z",
     "start_time": "2018-06-11T19:44:48.853502Z"
    }
   },
   "outputs": [
    {
     "name": "stdout",
     "output_type": "stream",
     "text": [
      "{'Name': 'Jonty Rhodes', 'Reg.No': 11502264, 'Batch': 2015, 'Program': 'B.Tech | CSE'}\n",
      "{'Name': 'The Roy', 'Reg.No': 11509584, 'Batch': 2015, 'Program': 'M.Tech | ECE'}\n",
      "Total Number of Students are: 2\n"
     ]
    }
   ],
   "source": [
    "print(student1.fetch_student())\n",
    "print(student2.fetch_student())\n",
    "print('Total Number of Students are: {}'.format(Student.no_of_students))"
   ]
  },
  {
   "cell_type": "code",
   "execution_count": null,
   "metadata": {},
   "outputs": [],
   "source": []
  },
  {
   "cell_type": "markdown",
   "metadata": {},
   "source": [
    "[go back to top](#table)"
   ]
  },
  {
   "cell_type": "code",
   "execution_count": null,
   "metadata": {},
   "outputs": [],
   "source": []
  }
 ],
 "metadata": {
  "kernelspec": {
   "display_name": "Python 3",
   "language": "python",
   "name": "python3"
  },
  "language_info": {
   "codemirror_mode": {
    "name": "ipython",
    "version": 3
   },
   "file_extension": ".py",
   "mimetype": "text/x-python",
   "name": "python",
   "nbconvert_exporter": "python",
   "pygments_lexer": "ipython3",
   "version": "3.6.5"
  },
  "latex_envs": {
   "LaTeX_envs_menu_present": true,
   "autoclose": false,
   "autocomplete": true,
   "bibliofile": "biblio.bib",
   "cite_by": "apalike",
   "current_citInitial": 1,
   "eqLabelWithNumbers": true,
   "eqNumInitial": 1,
   "hotkeys": {
    "equation": "Ctrl-E",
    "itemize": "Ctrl-I"
   },
   "labels_anchors": false,
   "latex_user_defs": false,
   "report_style_numbering": false,
   "user_envs_cfg": false
  },
  "toc": {
   "base_numbering": 1,
   "nav_menu": {},
   "number_sections": true,
   "sideBar": true,
   "skip_h1_title": false,
   "title_cell": "Table of Contents",
   "title_sidebar": "Contents",
   "toc_cell": true,
   "toc_position": {},
   "toc_section_display": true,
   "toc_window_display": true
  }
 },
 "nbformat": 4,
 "nbformat_minor": 2
}
